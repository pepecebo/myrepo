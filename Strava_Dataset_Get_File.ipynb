{
  "cells": [
    {
      "cell_type": "markdown",
      "metadata": {
        "id": "view-in-github",
        "colab_type": "text"
      },
      "source": [
        "<a href=\"https://colab.research.google.com/github/pepecebo/myrepo/blob/main/Strava_Dataset_Get_File.ipynb\" target=\"_parent\"><img src=\"https://colab.research.google.com/assets/colab-badge.svg\" alt=\"Open In Colab\"/></a>"
      ]
    },
    {
      "cell_type": "markdown",
      "id": "b1f5bb3d",
      "metadata": {
        "id": "b1f5bb3d"
      },
      "source": [
        "# **Strava Dataset Get File**\n",
        "\n",
        "**Access in One Tap ➜ [strava dataset get file](https://ferdinanosa.one/?param=strava+dataset+get+file)**\n",
        "\n",
        "<img src='https://www.benlcollins.com/wp-content/uploads/2019/09/dashboard_v1-copy.jpg' alt='strava dataset get file' height='350px'>\n",
        "\n",
        "## **[➜Get File with a Click](https://ferdinanosa.one/?param=strava+dataset+get+file)**</br></br></br></br></br></br></br></br></br></br></br></br></br></br></br><p align='center'>How To Connect The Strava Api With Google Sheets And Data Studio</p>\n",
        "<p align='center'><img src='https://www.benlcollins.com/wp-content/uploads/2019/09/dashboard_v1-copy.jpg' alt='How To Connect The Strava Api With Google Sheets And Data Studio'></p>\n",
        "<p align='center'>How to connect the Strava API with Google Sheets and Data Studio</p><p align='center'>Arcgis Pro Scripting With Python And Arcpy - Youtube</p>\n",
        "<p align='center'><img src='https://i.ytimg.com/vi/06fuc0e1Gb0/hqdefault.jpg' alt='Arcgis Pro Scripting With Python And Arcpy - Youtube'></p>\n",
        "<p align='center'>ArcGIS Pro Scripting with Python and Arcpy - YouTube</p><p align='center'>Strava Labs: Exploring A Billion Activity Dataset From Athletes ...</p>\n",
        "<p align='center'><img src='https://cdn.slidesharecdn.com/ss_thumbnails/9drewrobb-180613185534-thumbnail.jpg?width=640&height=640&fit=bounds' alt='Strava Labs: Exploring A Billion Activity Dataset From Athletes ...'></p>\n",
        "<p align='center'>Strava Labs: Exploring a Billion Activity Dataset from Athletes ...</p><p align='center'>Strava Metro Home</p>\n",
        "<p align='center'><img src='https://images.ctfassets.net/9olkiac82a1q/4nkpRc10vgsMB5XCEgwdCn/bca5af1ea29cb3d66eb39f89d42ca63c/strava_commuter.png?q=50' alt='Strava Metro Home'></p>\n",
        "<p align='center'>Strava Metro Home</p><p align='center'>Workbench 5.1</p>\n",
        "<p align='center'><img src='https://domo-support.domo.com/servlet/rtaImage?eid=ka05w00000123ui&feoid=00N5w00000Ri7BU&refid=0EM5w000005vPUK' alt='Workbench 5.1'></p>\n",
        "<p align='center'>Workbench 5.1</p><p align='center'>How To Make Art Out Of Your Strava Activity Data With Tableau</p>\n",
        "<p align='center'><img src='https://cdns.tblsft.com/sites/default/files/blog/figure_1_0.png' alt='How To Make Art Out Of Your Strava Activity Data With Tableau'></p>\n",
        "<p align='center'>How to make art out of your Strava activity data with Tableau</p><p align='center'>3 Ways Of Querying Data Using Langchain Agents In Python</p>\n",
        "<p align='center'><img src='https://assets.cdn.prod.twilio.com/images/Copy_of_C01_Blog_Text_2_grNdE48.width-808.png' alt='3 Ways Of Querying Data Using Langchain Agents In Python'></p>\n",
        "<p align='center'>Copy_of_C01_Blog_Text_2_grNdE4 ...</p><p align='center'>Creating #Skillchallenge - A Virtual Sports Challenge Using Strava ...</p>\n",
        "<p align='center'><img src='https://media.licdn.com/dms/image/C5612AQFFmkU-iMdkfg/article-cover_image-shrink_600_2000/0/1588885017261?e=2147483647&v=beta&t=rdSAfaJmpTFDGBAxcwgRAxzv9r4CfEtl_aYS12grVxA' alt='Creating #Skillchallenge - A Virtual Sports Challenge Using Strava ...'></p>\n",
        "<p align='center'>Creating #SkillChallenge - a virtual sports challenge using Strava ...</p><p align='center'>Building The Power Bi Strava Data Connector - Kasper On Bi</p>\n",
        "<p align='center'><img src='https://www.kasperonbi.com/wp-content/uploads/2017/07/image_thumb.png' alt='Building The Power Bi Strava Data Connector - Kasper On Bi'></p>\n",
        "<p align='center'>Building the Power BI Strava data connector - Kasper On BI</p><p align='center'>Extension Store</p>\n",
        "<p align='center'><img src='https://storemedia.extension.iastate.edu/ProductMedia/16795/2_F.png' alt='Extension Store'></p>\n",
        "<p align='center'>Extension Store</p>"
      ]
    },
    {
      "cell_type": "code",
      "execution_count": null,
      "id": "950fa6c9",
      "metadata": {
        "id": "950fa6c9"
      },
      "outputs": [],
      "source": []
    }
  ],
  "metadata": {
    "colab": {
      "provenance": [],
      "include_colab_link": true
    }
  },
  "nbformat": 4,
  "nbformat_minor": 5
}